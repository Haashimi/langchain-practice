{
 "cells": [
  {
   "cell_type": "code",
   "execution_count": 3,
   "id": "a945c04e-6fd1-4577-9a9f-9b7a4fcbb9de",
   "metadata": {},
   "outputs": [],
   "source": [
    "import os\n",
    "from secret_key import openai_api_key\n",
    "os.environ[\"OPENAI_API_KEY\"] = openai_api_key"
   ]
  },
  {
   "cell_type": "code",
   "execution_count": 4,
   "id": "eb9c3d1f-4601-4463-9134-3d1da3611b71",
   "metadata": {},
   "outputs": [],
   "source": [
    "from langchain.vectorstores import Chroma\n",
    "from langchain.embeddings import OpenAIEmbeddings\n",
    "from langchain.text_splitter import RecursiveCharacterTextSplitter\n",
    "from langchain.llms import OpenAI\n",
    "from langchain.chains import RetrievalQA\n",
    "from langchain.document_loaders import TextLoader\n",
    "from langchain.document_loaders import DirectoryLoader"
   ]
  },
  {
   "cell_type": "code",
   "execution_count": 6,
   "id": "874332f9-e7fd-4456-985c-fbed78837f72",
   "metadata": {},
   "outputs": [],
   "source": [
    "loader = TextLoader('data.txt', encoding='utf8')\n",
    "documents = loader.load()"
   ]
  },
  {
   "cell_type": "code",
   "execution_count": 7,
   "id": "5aeb8b23-8b2b-4059-a58b-44e1af31444b",
   "metadata": {},
   "outputs": [],
   "source": [
    "text_splitter = RecursiveCharacterTextSplitter(chunk_size=1000, chunk_overlap=200)\n",
    "texts = text_splitter.split_documents(documents)\n"
   ]
  },
  {
   "cell_type": "code",
   "execution_count": 28,
   "id": "16311818-f7ae-46f5-a6c1-67e1352be4e8",
   "metadata": {},
   "outputs": [
    {
     "data": {
      "text/plain": [
       "52"
      ]
     },
     "execution_count": 28,
     "metadata": {},
     "output_type": "execute_result"
    }
   ],
   "source": [
    "len(texts)"
   ]
  },
  {
   "cell_type": "code",
   "execution_count": 29,
   "id": "8b08e842-cf74-4775-9124-e6a393502fd0",
   "metadata": {},
   "outputs": [
    {
     "data": {
      "text/plain": [
       "Document(page_content='Adeegga eSim waa adeegga casri ah oo ku sahlaya inaad Taleefoonkaaga ku isticmaasho Lambarka Hormuud adigoo taleefoonkaaga wax Simcard ah gelinin.\\nSidoo kale Adeegga eSim wuxuu u sahkayaa macaamisha ku sugan dalka dibadiisa in ee qaadan karaa ama ku badalan karaan si Online ah . laakin wuxuu ku shaqeyn karaa agaagga esim wadamo gaara tusaalo : Kenya ,United Arab Emirates ,Turkey,Saudi Arabia,Qatar,Egypt,Sweden,Kuwait', metadata={'source': 'data.txt'})"
      ]
     },
     "execution_count": 29,
     "metadata": {},
     "output_type": "execute_result"
    }
   ],
   "source": [
    "texts[3]"
   ]
  },
  {
   "cell_type": "code",
   "execution_count": 8,
   "id": "4664d97a-f14c-492b-a2d9-2a56b91198b6",
   "metadata": {},
   "outputs": [],
   "source": [
    "# Embed and store the texts\n",
    "# Supplying a persist_directory will store the embeddings on disk\n",
    "persist_directory = 'db'\n",
    "\n",
    "## here we are using OpenAI embeddings but in future we will swap out to local embeddings\n",
    "embedding = OpenAIEmbeddings()\n",
    "\n",
    "vectordb = Chroma.from_documents(documents=texts, \n",
    "                                 embedding=embedding,\n",
    "                                 persist_directory=persist_directory)"
   ]
  },
  {
   "cell_type": "code",
   "execution_count": 9,
   "id": "bb234155-bdbc-4aba-b02f-4e708d0f9b66",
   "metadata": {},
   "outputs": [],
   "source": [
    "# persiste the db to disk\n",
    "vectordb.persist()\n",
    "vectordb = None"
   ]
  },
  {
   "cell_type": "code",
   "execution_count": 10,
   "id": "fe247476-117f-40f6-a6c2-7e7ccfb8942a",
   "metadata": {},
   "outputs": [],
   "source": [
    " #Now we can load the persisted database from disk, and use it as normal. \n",
    "vectordb = Chroma(persist_directory=persist_directory, \n",
    "                  embedding_function=embedding)"
   ]
  },
  {
   "cell_type": "code",
   "execution_count": 11,
   "id": "2669f29f-fcb6-4792-8d5f-f41ba93da037",
   "metadata": {},
   "outputs": [],
   "source": [
    "retriever = vectordb.as_retriever()"
   ]
  },
  {
   "cell_type": "code",
   "execution_count": 12,
   "id": "09478335-51cc-441c-9d71-2bd869907def",
   "metadata": {},
   "outputs": [],
   "source": [
    "docs = retriever.get_relevant_documents(\"kawaran adeega esim\")"
   ]
  },
  {
   "cell_type": "code",
   "execution_count": 13,
   "id": "ea56d880-ff23-49eb-95cf-ac8fdef853da",
   "metadata": {},
   "outputs": [],
   "source": [
    "# create the chain to answer questions \n",
    "qa_chain = RetrievalQA.from_chain_type(llm=OpenAI(), \n",
    "                                  chain_type=\"stuff\", \n",
    "                                  retriever=retriever, \n",
    "                                  return_source_documents=True)"
   ]
  },
  {
   "cell_type": "code",
   "execution_count": 14,
   "id": "55892858-b358-49d2-8bdb-b7c77b5532c4",
   "metadata": {},
   "outputs": [],
   "source": [
    "## Cite sources\n",
    "def process_llm_response(llm_response):\n",
    "    print(llm_response['result'])\n",
    "    print('\\n\\nSources:')\n",
    "    for source in llm_response[\"source_documents\"]:\n",
    "        print(source.metadata['source'])"
   ]
  },
  {
   "cell_type": "code",
   "execution_count": 23,
   "id": "9a54b0d7-1cbd-4a50-834e-faaeddb71aca",
   "metadata": {},
   "outputs": [
    {
     "name": "stdout",
     "output_type": "stream",
     "text": [
      " 1-Ganacsiga inuu yahay mid haysta rugsad ganacsi oo aan dhacsaneyn. 2-In Xayaysiinta aysan ka hor imaanayn shareecada islaam-ka, Shuruucda dalka, iyo Danta Shirkadda Hormuud. 3-In Xayaysiinta aysan ku xadgudbaynin ganacsi kale /shakhsi ama wax laga fahmi karo aysan ku jirin. 4-In codku fasiix yahay oo uusan ka dheereyn muddo 1daqiigo ah, size- kisuna yahay ugu badnaan 500Kb ama ka yar.\n",
      "\n",
      "\n",
      "Sources:\n",
      "data.txt\n",
      "data.txt\n",
      "data.txt\n",
      "data.txt\n"
     ]
    }
   ],
   "source": [
    "# full example\n",
    "query = \"Shuruuradaha Codadka Xayasiinta ah adeegga CRBT\"\n",
    "llm_response = qa_chain(query)\n",
    "process_llm_response(llm_response)"
   ]
  },
  {
   "cell_type": "code",
   "execution_count": null,
   "id": "10914f50-7d94-4c21-9b1d-84d0c2abe8d6",
   "metadata": {},
   "outputs": [],
   "source": []
  }
 ],
 "metadata": {
  "kernelspec": {
   "display_name": "Python 3 (ipykernel)",
   "language": "python",
   "name": "python3"
  },
  "language_info": {
   "codemirror_mode": {
    "name": "ipython",
    "version": 3
   },
   "file_extension": ".py",
   "mimetype": "text/x-python",
   "name": "python",
   "nbconvert_exporter": "python",
   "pygments_lexer": "ipython3",
   "version": "3.10.11"
  }
 },
 "nbformat": 4,
 "nbformat_minor": 5
}
